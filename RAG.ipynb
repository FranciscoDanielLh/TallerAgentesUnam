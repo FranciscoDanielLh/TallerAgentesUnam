{
  "nbformat": 4,
  "nbformat_minor": 0,
  "metadata": {
    "colab": {
      "provenance": []
    },
    "kernelspec": {
      "name": "python3",
      "display_name": "Python 3"
    },
    "language_info": {
      "name": "python"
    }
  },
  "cells": [
    {
      "cell_type": "code",
      "execution_count": 3,
      "metadata": {
        "id": "6l_3fmMnAevF"
      },
      "outputs": [],
      "source": [
        "!pip install langchain openai pinecone-client"
      ]
    },
    {
      "cell_type": "code",
      "source": [
        "import os\n",
        "from langchain_community.document_loaders import PyPDFLoader\n",
        "from langchain.text_splitter import RecursiveCharacterTextSplitter\n",
        "from langchain_openai import OpenAIEmbeddings\n",
        "from pinecone import Pinecone\n",
        "from langchain_pinecone import PineconeVectorStore\n",
        "\n",
        "# Configurar las claves de API como variables de entorno\n",
        "os.environ[\"OPENAI_API_KEY\"] = \"apikey\"\n",
        "os.environ[\"PINECONE_API_KEY\"] = \"apikey\"\n",
        "\n",
        "# Inicializar el cliente de Pinecone\n",
        "pc = Pinecone(api_key=os.environ[\"PINECONE_API_KEY\"])\n",
        "\n",
        "# Nombre del índice de Pinecone\n",
        "index_name = \"tallerunamagentes\"\n",
        "\n",
        "# Verificar si el índice ya existe\n",
        "if index_name not in [index[\"name\"] for index in pc.list_indexes()]:\n",
        "    # Crear el índice si no existe\n",
        "    pc.create_index(\n",
        "        name=index_name,\n",
        "        dimension=1536,  # Dimensión del modelo de embeddings utilizado\n",
        "        metric=\"cosine\"\n",
        "    )\n",
        "\n",
        "# Conectar al índice\n",
        "index = pc.Index(index_name)\n",
        "\n",
        "# Cargar el documento PDF\n",
        "loader = PyPDFLoader(\"./manualUsuario.pdf\")\n",
        "documents = loader.load()\n",
        "\n",
        "# Dividir el texto en fragmentos\n",
        "text_splitter = RecursiveCharacterTextSplitter(chunk_size=1000, chunk_overlap=200)\n",
        "docs = text_splitter.split_documents(documents)\n",
        "\n",
        "# Inicializar el modelo de embeddings de OpenAI\n",
        "embeddings = OpenAIEmbeddings(model=\"text-embedding-3-small\")\n",
        "\n",
        "# Crear la instancia de PineconeVectorStore y cargar los documentos\n",
        "vectorstore = PineconeVectorStore.from_documents(docs, embeddings, index_name=index_name)\n",
        "\n",
        "print(\"Documentos cargados exitosamente en Pinecone.\")\n"
      ],
      "metadata": {
        "colab": {
          "base_uri": "https://localhost:8080/"
        },
        "id": "jjVINTTjB_I1",
        "outputId": "5a73cb20-d943-46f5-f9cd-7450dfc65e60"
      },
      "execution_count": 23,
      "outputs": [
        {
          "output_type": "stream",
          "name": "stdout",
          "text": [
            "Documentos cargados exitosamente en Pinecone.\n"
          ]
        }
      ]
    },
    {
      "cell_type": "code",
      "source": [],
      "metadata": {
        "id": "mySsvwTzFVVz"
      },
      "execution_count": null,
      "outputs": []
    }
  ]
}